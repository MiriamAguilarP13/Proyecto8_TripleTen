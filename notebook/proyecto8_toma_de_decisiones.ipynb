{
 "cells": [
  {
   "cell_type": "markdown",
   "metadata": {},
   "source": [
    "# Departamento de marketing - Test A/B\n",
    "\n",
    "# Contexto\n",
    "Eres analista en una gran tienda en línea. Junto con el departamento de marketing has recopilado una lista de hipótesis que pueden ayudar a aumentar los ingresos. \n",
    "Tienes que priorizar estas hipótesis, lanzar un test A/B y analizar los resultados."
   ]
  },
  {
   "cell_type": "markdown",
   "metadata": {},
   "source": [
    "# Contenido\n",
    "\n",
    "* [Objetivos](#objetivos)\n",
    "* [Diccionario de Datos](#diccionario)\n",
    "* [1 Inicialización](#inicio)\n",
    "* [2 Parte 1. Priorizar hipótesis](#hipotheses)\n",
    "* [3 Parte 2. Análisis de test A/B](#test)\n",
    "\t* [3.1 Ingresos Acumulados por Grupo](#acumulado_ingreso)\n",
    "\t* [3.2 Tamaño de Pedido Promedio Acumulado por Grupo](#acumulado_pedido)\n",
    "\t* [3.3 Diferencia relativa en el tamaño de pedido promedio acumulado para el grupo B en comparación con el grupo A](#dif_rel_pedidos)\n",
    "\t* [3.4 Tasa de conversión de cada grupo como la relación entre los pedidos y el número de visitas de cada día](#conversion_acum)\n",
    "\t* [3.5 Tasas de conversión diarias de los dos grupos](#conversion_diaria)\n",
    "\t* [3.6 Valores atípicos y aumentos: valores extremos](#atipicos)\n",
    "\t\t* [3.6.1 Gráfico de dispersión del número de pedidos por usuario](#scatter_orders)\n",
    "\t\t* [3.6.2 Gráfico de dispersión de los precios de los pedidos](#scatter_price)\n",
    "\t* [3.7 Significancia estadística de la diferencia en la conversión entre los grupos con los datos en bruto](#sig_esta_conversion)\n",
    "\t* [3.8 Significancia estadística de la diferencia en el tamaño promedio de pedido entre los grupos utilizando los datos en bruto](#sig_esta_pedidos)\n",
    "\t* [3.9 Significancia estadística de la diferencia en la conversión entre los grupos utilizando los datos filtrados](#conversion_filtrado)\n",
    "\t* [3.10 Significancia estadística de la diferencia en el tamaño promedio de pedido entre los grupos utilizando los datos filtrados](#pedidos_filtrado)\n",
    "* [4 Resumen y Conclusión General](#end)\n"
   ]
  },
  {
   "cell_type": "markdown",
   "metadata": {},
   "source": [
    "# Objetivos <a id='objetivos'></a>  \n",
    "\n",
    "* Obtener una comprensión general de los datos.  \n",
    "* Identificar tendencias y patrones importantes.  \n",
    "* Preparar los datos para el análisis.   \n",
    "* Analizar los resultados del test A/B.  "
   ]
  },
  {
   "cell_type": "markdown",
   "metadata": {},
   "source": [
    "# Diccionario de Datos <a id='diccionario'></a>   \n",
    "\n",
    "* DataFrame `hypotheses_us`:  \n",
    "    * `Hypotheses`: breves descripciones de las hipótesis.  \n",
    "    * `Reach`: alcance del usuario, en una escala del uno a diez.  \n",
    "    * `Impact`: impacto en los usuarios, en una escala del uno al diez.  \n",
    "    * `Confidence`: confianza en la hipótesis, en una escala del uno al diez.  \n",
    "    * `Effort`: los recursos necesarios para probar una hipótesis, en una escala del uno al diez. Cuanto mayor sea el valor Effort, más recursos requiere la prueba.  \n",
    "    \n",
    "* DataFrame `orders_us`:  \n",
    "    * `transactionId`: identificador de pedido.  \n",
    "    * `visitorId`: identificador del usuario que realizó el pedido.  \n",
    "    * `date`: fecha del pedido.  \n",
    "    * `revenue`: ingresos del pedido.  \n",
    "    * `group`: el grupo del test A/B al que pertenece el usuario.  \n",
    "* DataFrame `visits_us`:  \n",
    "    * `date`: la fecha.  \n",
    "    * `group`: grupo del test A/B.  \n",
    "    * `visits`: el número de visitas en la fecha especificada para el grupo de test A/B especificado.  "
   ]
  },
  {
   "cell_type": "markdown",
   "metadata": {},
   "source": [
    "## Inicialización <a id='inicio'></a>"
   ]
  },
  {
   "cell_type": "code",
   "execution_count": 1,
   "metadata": {},
   "outputs": [],
   "source": [
    "# se cargan todas las librerías\n",
    "import pandas as pd\n",
    "import numpy as np\n",
    "from matplotlib import pyplot as plt\n",
    "import scipy.stats as stats"
   ]
  },
  {
   "cell_type": "code",
   "execution_count": 2,
   "metadata": {},
   "outputs": [],
   "source": [
    "# se descargan los datos completos con los tipos de datos correctos\n",
    "\n",
    "hypotheses_us = pd.read_csv('files/datasets/hypotheses_us.csv', sep= ';')\n",
    "orders_us = pd.read_csv('files/datasets/orders_us.csv', parse_dates= ['date'])\n",
    "visits_us = pd.read_csv('files/datasets/visits_us.csv', parse_dates= ['date'])"
   ]
  },
  {
   "cell_type": "code",
   "execution_count": 3,
   "metadata": {},
   "outputs": [
    {
     "name": "stdout",
     "output_type": "stream",
     "text": [
      "<class 'pandas.core.frame.DataFrame'>\n",
      "RangeIndex: 9 entries, 0 to 8\n",
      "Data columns (total 5 columns):\n",
      " #   Column      Non-Null Count  Dtype \n",
      "---  ------      --------------  ----- \n",
      " 0   Hypothesis  9 non-null      object\n",
      " 1   Reach       9 non-null      int64 \n",
      " 2   Impact      9 non-null      int64 \n",
      " 3   Confidence  9 non-null      int64 \n",
      " 4   Effort      9 non-null      int64 \n",
      "dtypes: int64(4), object(1)\n",
      "memory usage: 488.0+ bytes\n"
     ]
    }
   ],
   "source": [
    "# se muestra la información de cada DataFrame\n",
    "hypotheses_us.info()"
   ]
  },
  {
   "cell_type": "code",
   "execution_count": 4,
   "metadata": {
    "scrolled": false
   },
   "outputs": [
    {
     "name": "stdout",
     "output_type": "stream",
     "text": [
      "<class 'pandas.core.frame.DataFrame'>\n",
      "RangeIndex: 1197 entries, 0 to 1196\n",
      "Data columns (total 5 columns):\n",
      " #   Column         Non-Null Count  Dtype         \n",
      "---  ------         --------------  -----         \n",
      " 0   transactionId  1197 non-null   int64         \n",
      " 1   visitorId      1197 non-null   int64         \n",
      " 2   date           1197 non-null   datetime64[ns]\n",
      " 3   revenue        1197 non-null   float64       \n",
      " 4   group          1197 non-null   object        \n",
      "dtypes: datetime64[ns](1), float64(1), int64(2), object(1)\n",
      "memory usage: 46.9+ KB\n"
     ]
    }
   ],
   "source": [
    "orders_us.info()"
   ]
  },
  {
   "cell_type": "code",
   "execution_count": 5,
   "metadata": {},
   "outputs": [
    {
     "name": "stdout",
     "output_type": "stream",
     "text": [
      "<class 'pandas.core.frame.DataFrame'>\n",
      "RangeIndex: 62 entries, 0 to 61\n",
      "Data columns (total 3 columns):\n",
      " #   Column  Non-Null Count  Dtype         \n",
      "---  ------  --------------  -----         \n",
      " 0   date    62 non-null     datetime64[ns]\n",
      " 1   group   62 non-null     object        \n",
      " 2   visits  62 non-null     int64         \n",
      "dtypes: datetime64[ns](1), int64(1), object(1)\n",
      "memory usage: 1.6+ KB\n"
     ]
    }
   ],
   "source": [
    "visits_us.info()"
   ]
  },
  {
   "cell_type": "code",
   "execution_count": 6,
   "metadata": {},
   "outputs": [],
   "source": [
    "# se cambian a minúsculas los nombres de las columnas del DataFrame 'hypotheses_us'\n",
    "# se crea una lista vacia para almcenar los nombres modificados\n",
    "column_names = []\n",
    "# se itera sobre cada nombre de columna con un bucle for\n",
    "for name in hypotheses_us.columns:\n",
    "    names_lower = name.lower()\n",
    "    column_names.append(names_lower)"
   ]
  },
  {
   "cell_type": "code",
   "execution_count": 7,
   "metadata": {},
   "outputs": [],
   "source": [
    "# se asignan los nuevos nombres de columna\n",
    "hypotheses_us.columns = column_names"
   ]
  },
  {
   "cell_type": "code",
   "execution_count": 8,
   "metadata": {},
   "outputs": [],
   "source": [
    "# se modifica el nombre las columnas 'transactionId' y 'visitorId' del DataFrame orders_us\n",
    "orders_us = orders_us.rename(columns= {'transactionId':'transaction_id', 'visitorId': 'visitor_id'})"
   ]
  },
  {
   "cell_type": "markdown",
   "metadata": {},
   "source": [
    "<div style=\"background-color: lightyellow; padding: 10px;\">\n",
    "\n",
    "<span style=\"color: darkblue;\">  \n",
    "    \n",
    "Se tienen el tipo de datos correctos en los DataFrames y no hay valores nulos, por tanto, se procede con el análisis.\n",
    "    \n",
    "</span>\n",
    "    \n",
    "</div>"
   ]
  },
  {
   "cell_type": "markdown",
   "metadata": {},
   "source": [
    "## Parte 1. Priorizar hipótesis  <a id='hipotheses'></a>"
   ]
  },
  {
   "cell_type": "markdown",
   "metadata": {},
   "source": [
    "<div style=\"background-color: lightyellow; padding: 10px;\">\n",
    "\n",
    "<span style=\"color: darkblue;\">  \n",
    "    \n",
    "**ICE y RICE:**  \n",
    "Impacto, confianza, esfuerzo (ICE) es una de las formas más populares de priorizar\n",
    "problemas: `ICE score = (Impact x Confidence) / Effort`\n",
    "    \n",
    "También existe una forma modificada, RICE: `RICE score = (Reach x Impact x Confidence) / Effort`.\n",
    "    \n",
    "A partir del DataFrame `hypotheses_us` se calculará ICE y RICE, para priorizar hipótesis. Se ordenarán en orden descendente de prioridad.\n",
    "    \n",
    "    \n",
    "</span>\n",
    "    \n",
    "</div>"
   ]
  },
  {
   "cell_type": "code",
   "execution_count": 9,
   "metadata": {},
   "outputs": [
    {
     "data": {
      "text/html": [
       "<div>\n",
       "<style scoped>\n",
       "    .dataframe tbody tr th:only-of-type {\n",
       "        vertical-align: middle;\n",
       "    }\n",
       "\n",
       "    .dataframe tbody tr th {\n",
       "        vertical-align: top;\n",
       "    }\n",
       "\n",
       "    .dataframe thead th {\n",
       "        text-align: right;\n",
       "    }\n",
       "</style>\n",
       "<table border=\"1\" class=\"dataframe\">\n",
       "  <thead>\n",
       "    <tr style=\"text-align: right;\">\n",
       "      <th></th>\n",
       "      <th>hypothesis</th>\n",
       "      <th>reach</th>\n",
       "      <th>impact</th>\n",
       "      <th>confidence</th>\n",
       "      <th>effort</th>\n",
       "    </tr>\n",
       "  </thead>\n",
       "  <tbody>\n",
       "    <tr>\n",
       "      <th>0</th>\n",
       "      <td>Add two new channels for attracting traffic. T...</td>\n",
       "      <td>3</td>\n",
       "      <td>10</td>\n",
       "      <td>8</td>\n",
       "      <td>6</td>\n",
       "    </tr>\n",
       "    <tr>\n",
       "      <th>1</th>\n",
       "      <td>Launch your own delivery service. This will sh...</td>\n",
       "      <td>2</td>\n",
       "      <td>5</td>\n",
       "      <td>4</td>\n",
       "      <td>10</td>\n",
       "    </tr>\n",
       "    <tr>\n",
       "      <th>2</th>\n",
       "      <td>Add product recommendation blocks to the store...</td>\n",
       "      <td>8</td>\n",
       "      <td>3</td>\n",
       "      <td>7</td>\n",
       "      <td>3</td>\n",
       "    </tr>\n",
       "    <tr>\n",
       "      <th>3</th>\n",
       "      <td>Change the category structure. This will incre...</td>\n",
       "      <td>8</td>\n",
       "      <td>3</td>\n",
       "      <td>3</td>\n",
       "      <td>8</td>\n",
       "    </tr>\n",
       "    <tr>\n",
       "      <th>4</th>\n",
       "      <td>Change the background color on the main page. ...</td>\n",
       "      <td>3</td>\n",
       "      <td>1</td>\n",
       "      <td>1</td>\n",
       "      <td>1</td>\n",
       "    </tr>\n",
       "    <tr>\n",
       "      <th>5</th>\n",
       "      <td>Add a customer review page. This will increase...</td>\n",
       "      <td>3</td>\n",
       "      <td>2</td>\n",
       "      <td>2</td>\n",
       "      <td>3</td>\n",
       "    </tr>\n",
       "    <tr>\n",
       "      <th>6</th>\n",
       "      <td>Show banners with current offers and sales on ...</td>\n",
       "      <td>5</td>\n",
       "      <td>3</td>\n",
       "      <td>8</td>\n",
       "      <td>3</td>\n",
       "    </tr>\n",
       "    <tr>\n",
       "      <th>7</th>\n",
       "      <td>Add a subscription form to all the main pages....</td>\n",
       "      <td>10</td>\n",
       "      <td>7</td>\n",
       "      <td>8</td>\n",
       "      <td>5</td>\n",
       "    </tr>\n",
       "    <tr>\n",
       "      <th>8</th>\n",
       "      <td>Launch a promotion that gives users discounts ...</td>\n",
       "      <td>1</td>\n",
       "      <td>9</td>\n",
       "      <td>9</td>\n",
       "      <td>5</td>\n",
       "    </tr>\n",
       "  </tbody>\n",
       "</table>\n",
       "</div>"
      ],
      "text/plain": [
       "                                          hypothesis  reach  impact  \\\n",
       "0  Add two new channels for attracting traffic. T...      3      10   \n",
       "1  Launch your own delivery service. This will sh...      2       5   \n",
       "2  Add product recommendation blocks to the store...      8       3   \n",
       "3  Change the category structure. This will incre...      8       3   \n",
       "4  Change the background color on the main page. ...      3       1   \n",
       "5  Add a customer review page. This will increase...      3       2   \n",
       "6  Show banners with current offers and sales on ...      5       3   \n",
       "7  Add a subscription form to all the main pages....     10       7   \n",
       "8  Launch a promotion that gives users discounts ...      1       9   \n",
       "\n",
       "   confidence  effort  \n",
       "0           8       6  \n",
       "1           4      10  \n",
       "2           7       3  \n",
       "3           3       8  \n",
       "4           1       1  \n",
       "5           2       3  \n",
       "6           8       3  \n",
       "7           8       5  \n",
       "8           9       5  "
      ]
     },
     "execution_count": 9,
     "metadata": {},
     "output_type": "execute_result"
    }
   ],
   "source": [
    "# se imprime el DataFrame 'hypotheses_us'\n",
    "hypotheses_us"
   ]
  },
  {
   "cell_type": "code",
   "execution_count": 10,
   "metadata": {},
   "outputs": [],
   "source": [
    "# se crea una columna para almacenar el valor de ICE\n",
    "hypotheses_us['ICE'] = (hypotheses_us['impact'] * hypotheses_us['confidence']) / hypotheses_us['effort']"
   ]
  },
  {
   "cell_type": "code",
   "execution_count": 11,
   "metadata": {
    "scrolled": true
   },
   "outputs": [
    {
     "data": {
      "text/html": [
       "<div>\n",
       "<style scoped>\n",
       "    .dataframe tbody tr th:only-of-type {\n",
       "        vertical-align: middle;\n",
       "    }\n",
       "\n",
       "    .dataframe tbody tr th {\n",
       "        vertical-align: top;\n",
       "    }\n",
       "\n",
       "    .dataframe thead th {\n",
       "        text-align: right;\n",
       "    }\n",
       "</style>\n",
       "<table border=\"1\" class=\"dataframe\">\n",
       "  <thead>\n",
       "    <tr style=\"text-align: right;\">\n",
       "      <th></th>\n",
       "      <th>hypothesis</th>\n",
       "      <th>ICE</th>\n",
       "    </tr>\n",
       "  </thead>\n",
       "  <tbody>\n",
       "    <tr>\n",
       "      <th>8</th>\n",
       "      <td>Launch a promotion that gives users discounts ...</td>\n",
       "      <td>16.200000</td>\n",
       "    </tr>\n",
       "    <tr>\n",
       "      <th>0</th>\n",
       "      <td>Add two new channels for attracting traffic. T...</td>\n",
       "      <td>13.333333</td>\n",
       "    </tr>\n",
       "    <tr>\n",
       "      <th>7</th>\n",
       "      <td>Add a subscription form to all the main pages....</td>\n",
       "      <td>11.200000</td>\n",
       "    </tr>\n",
       "    <tr>\n",
       "      <th>6</th>\n",
       "      <td>Show banners with current offers and sales on ...</td>\n",
       "      <td>8.000000</td>\n",
       "    </tr>\n",
       "    <tr>\n",
       "      <th>2</th>\n",
       "      <td>Add product recommendation blocks to the store...</td>\n",
       "      <td>7.000000</td>\n",
       "    </tr>\n",
       "    <tr>\n",
       "      <th>1</th>\n",
       "      <td>Launch your own delivery service. This will sh...</td>\n",
       "      <td>2.000000</td>\n",
       "    </tr>\n",
       "    <tr>\n",
       "      <th>5</th>\n",
       "      <td>Add a customer review page. This will increase...</td>\n",
       "      <td>1.333333</td>\n",
       "    </tr>\n",
       "    <tr>\n",
       "      <th>3</th>\n",
       "      <td>Change the category structure. This will incre...</td>\n",
       "      <td>1.125000</td>\n",
       "    </tr>\n",
       "    <tr>\n",
       "      <th>4</th>\n",
       "      <td>Change the background color on the main page. ...</td>\n",
       "      <td>1.000000</td>\n",
       "    </tr>\n",
       "  </tbody>\n",
       "</table>\n",
       "</div>"
      ],
      "text/plain": [
       "                                          hypothesis        ICE\n",
       "8  Launch a promotion that gives users discounts ...  16.200000\n",
       "0  Add two new channels for attracting traffic. T...  13.333333\n",
       "7  Add a subscription form to all the main pages....  11.200000\n",
       "6  Show banners with current offers and sales on ...   8.000000\n",
       "2  Add product recommendation blocks to the store...   7.000000\n",
       "1  Launch your own delivery service. This will sh...   2.000000\n",
       "5  Add a customer review page. This will increase...   1.333333\n",
       "3  Change the category structure. This will incre...   1.125000\n",
       "4  Change the background color on the main page. ...   1.000000"
      ]
     },
     "execution_count": 11,
     "metadata": {},
     "output_type": "execute_result"
    }
   ],
   "source": [
    "# se ordenan en orden descendente de prioridad.\n",
    "hypotheses_us[['hypothesis', 'ICE']].sort_values(by= 'ICE', ascending= False)"
   ]
  },
  {
   "cell_type": "code",
   "execution_count": 12,
   "metadata": {},
   "outputs": [
    {
     "name": "stdout",
     "output_type": "stream",
     "text": [
      "Tres hipótesis más prometedoras con ICE:\n",
      "Launch a promotion that gives users discounts on their birthdays\n",
      "Add two new channels for attracting traffic. This will bring 30% more users\n",
      "Add a subscription form to all the main pages. This will help you compile a mailing list\n"
     ]
    }
   ],
   "source": [
    "print('Tres hipótesis más prometedoras con ICE:')\n",
    "print(hypotheses_us.iloc[8][0])\n",
    "print(hypotheses_us.iloc[0][0])\n",
    "print(hypotheses_us.iloc[7][0])"
   ]
  },
  {
   "cell_type": "code",
   "execution_count": 13,
   "metadata": {},
   "outputs": [],
   "source": [
    "# se crea una columna para almacenar el valor de RICE\n",
    "hypotheses_us['RICE'] = (hypotheses_us['reach'] * hypotheses_us['impact'] * hypotheses_us['confidence']) / hypotheses_us['effort']"
   ]
  },
  {
   "cell_type": "code",
   "execution_count": 14,
   "metadata": {},
   "outputs": [
    {
     "data": {
      "text/html": [
       "<div>\n",
       "<style scoped>\n",
       "    .dataframe tbody tr th:only-of-type {\n",
       "        vertical-align: middle;\n",
       "    }\n",
       "\n",
       "    .dataframe tbody tr th {\n",
       "        vertical-align: top;\n",
       "    }\n",
       "\n",
       "    .dataframe thead th {\n",
       "        text-align: right;\n",
       "    }\n",
       "</style>\n",
       "<table border=\"1\" class=\"dataframe\">\n",
       "  <thead>\n",
       "    <tr style=\"text-align: right;\">\n",
       "      <th></th>\n",
       "      <th>hypothesis</th>\n",
       "      <th>RICE</th>\n",
       "    </tr>\n",
       "  </thead>\n",
       "  <tbody>\n",
       "    <tr>\n",
       "      <th>7</th>\n",
       "      <td>Add a subscription form to all the main pages....</td>\n",
       "      <td>112.0</td>\n",
       "    </tr>\n",
       "    <tr>\n",
       "      <th>2</th>\n",
       "      <td>Add product recommendation blocks to the store...</td>\n",
       "      <td>56.0</td>\n",
       "    </tr>\n",
       "    <tr>\n",
       "      <th>0</th>\n",
       "      <td>Add two new channels for attracting traffic. T...</td>\n",
       "      <td>40.0</td>\n",
       "    </tr>\n",
       "    <tr>\n",
       "      <th>6</th>\n",
       "      <td>Show banners with current offers and sales on ...</td>\n",
       "      <td>40.0</td>\n",
       "    </tr>\n",
       "    <tr>\n",
       "      <th>8</th>\n",
       "      <td>Launch a promotion that gives users discounts ...</td>\n",
       "      <td>16.2</td>\n",
       "    </tr>\n",
       "    <tr>\n",
       "      <th>3</th>\n",
       "      <td>Change the category structure. This will incre...</td>\n",
       "      <td>9.0</td>\n",
       "    </tr>\n",
       "    <tr>\n",
       "      <th>1</th>\n",
       "      <td>Launch your own delivery service. This will sh...</td>\n",
       "      <td>4.0</td>\n",
       "    </tr>\n",
       "    <tr>\n",
       "      <th>5</th>\n",
       "      <td>Add a customer review page. This will increase...</td>\n",
       "      <td>4.0</td>\n",
       "    </tr>\n",
       "    <tr>\n",
       "      <th>4</th>\n",
       "      <td>Change the background color on the main page. ...</td>\n",
       "      <td>3.0</td>\n",
       "    </tr>\n",
       "  </tbody>\n",
       "</table>\n",
       "</div>"
      ],
      "text/plain": [
       "                                          hypothesis   RICE\n",
       "7  Add a subscription form to all the main pages....  112.0\n",
       "2  Add product recommendation blocks to the store...   56.0\n",
       "0  Add two new channels for attracting traffic. T...   40.0\n",
       "6  Show banners with current offers and sales on ...   40.0\n",
       "8  Launch a promotion that gives users discounts ...   16.2\n",
       "3  Change the category structure. This will incre...    9.0\n",
       "1  Launch your own delivery service. This will sh...    4.0\n",
       "5  Add a customer review page. This will increase...    4.0\n",
       "4  Change the background color on the main page. ...    3.0"
      ]
     },
     "execution_count": 14,
     "metadata": {},
     "output_type": "execute_result"
    }
   ],
   "source": [
    "# se ordenan en orden descendente de prioridad.\n",
    "hypotheses_us[['hypothesis', 'RICE']].sort_values(by= 'RICE', ascending= False)"
   ]
  },
  {
   "cell_type": "code",
   "execution_count": 15,
   "metadata": {},
   "outputs": [
    {
     "name": "stdout",
     "output_type": "stream",
     "text": [
      "Tres hipótesis más prometedoras con RICE:\n",
      "Add a subscription form to all the main pages. This will help you compile a mailing list\n",
      "Add product recommendation blocks to the store's site. This will increase conversion and average purchase size\n",
      "Add two new channels for attracting traffic. This will bring 30% more users\n"
     ]
    }
   ],
   "source": [
    "print('Tres hipótesis más prometedoras con RICE:')\n",
    "print(hypotheses_us.iloc[7][0])\n",
    "print(hypotheses_us.iloc[2][0])\n",
    "print(hypotheses_us.iloc[0][0])"
   ]
  },
  {
   "cell_type": "markdown",
   "metadata": {},
   "source": [
    "<div style=\"background-color: lightyellow; padding: 10px;\">\n",
    "\n",
    "<span style=\"color: darkblue;\">  \n",
    "    \n",
    "**Conclusiones:**  \n",
    "En el caso del framework **ICE** las 3 hipótesis más prometedoras son las que tienen los índices 8, 0 y 7, mientras que el framework **RICE** las 3 hipótesis más prometedoras son las que tienen los índices 7, 2 y 0. Las hipótesis 8 y 0 tiene valores muy altos de impacto y confianza tienen una calificación alta, sin embargo, el alcance que tienen es muy bajo su puntaje. Lo anterior significa que se alcanzan a muy pocos usuarios y usuarias, esa una de las principales diferencias entre **ICE** y **RICE**, este último toma en cuenta el alcance de las hipótesis, es decir, a cuántos usuarios/as se alcanzan. Mientras que, en el framework **RICE** la hipótesis 7 ocupa el primer lugar, ya que su puntaje del alcance es mayor que las hipótesis 8 y 0. \n",
    "    \n",
    "    \n",
    "</span>\n",
    "    \n",
    "</div>"
   ]
  },
  {
   "cell_type": "markdown",
   "metadata": {},
   "source": [
    "## Parte 2. Análisis de test A/B <a id='test'></a>"
   ]
  },
  {
   "cell_type": "markdown",
   "metadata": {},
   "source": [
    "###  Ingresos Acumulados por Grupo <a id='acumulado_ingreso'></a>"
   ]
  },
  {
   "cell_type": "code",
   "execution_count": 44,
   "metadata": {},
   "outputs": [
    {
     "name": "stdout",
     "output_type": "stream",
     "text": [
      "58 usuarios encontrados en ambos grupos:\n",
      "{3957174400, 3984495233, 2780786433, 1294878855, 1648269707, 1614305549, 4120364173, 232979603, 199603092, 4266935830, 2712142231, 2587333274, 2716752286, 3891541246, 1668030113, 2654030115, 3234906277, 1230306981, 1404934699, 3803269165, 2949041841, 237748145, 457167155, 2927087541, 1738359350, 3062433592, 3656415546, 818047933, 393266494, 963407295, 471551937, 2579882178, 3202540741, 2686716486, 1333886533, 2044997962, 3941795274, 1801183820, 2378935119, 4256040402, 4069496402, 3766097110, 8300375, 351125977, 1602967004, 276558944, 2038680547, 3951559397, 3963646447, 4186807279, 3717692402, 1959144690, 2458001652, 2600415354, 2954449915, 1316129916, 477780734, 3972127743}\n"
     ]
    }
   ],
   "source": [
    "# para verificar si existen usuarios que estén tanto en el grupo A como en el grupo B se emplea set()\n",
    "# después se encuentra la instersección de ambos conjuntos con intersection()\n",
    "\n",
    "# se obtienen conjuntos únicos de visitor_id para cada grupo\n",
    "visitors_group_A = set(orders_us[orders_us['group'] == 'A']['visitor_id'])\n",
    "visitors_group_B = set(orders_us[orders_us['group'] == 'B']['visitor_id'])\n",
    "\n",
    "# Encuentra la intersección de los conjuntos (usuarios presentes en ambos grupos)\n",
    "common_visitors = visitors_group_A.intersection(visitors_group_B)\n",
    "\n",
    "# Se muestra la cantidad y los visitor_id que están en ambos grupos\n",
    "if not common_visitors:\n",
    "    print(\"No hay usuarios que estén en ambos grupos A y B.\")\n",
    "else:\n",
    "    print(f\"{len(common_visitors)} usuarios encontrados en ambos grupos:\")\n",
    "    print(common_visitors)"
   ]
  },
  {
   "cell_type": "code",
   "execution_count": 55,
   "metadata": {
    "scrolled": false
   },
   "outputs": [
    {
     "data": {
      "text/html": [
       "<div>\n",
       "<style scoped>\n",
       "    .dataframe tbody tr th:only-of-type {\n",
       "        vertical-align: middle;\n",
       "    }\n",
       "\n",
       "    .dataframe tbody tr th {\n",
       "        vertical-align: top;\n",
       "    }\n",
       "\n",
       "    .dataframe thead th {\n",
       "        text-align: right;\n",
       "    }\n",
       "</style>\n",
       "<table border=\"1\" class=\"dataframe\">\n",
       "  <thead>\n",
       "    <tr style=\"text-align: right;\">\n",
       "      <th></th>\n",
       "      <th>transaction_id</th>\n",
       "      <th>visitor_id</th>\n",
       "      <th>date</th>\n",
       "      <th>revenue</th>\n",
       "      <th>group</th>\n",
       "    </tr>\n",
       "  </thead>\n",
       "  <tbody>\n",
       "    <tr>\n",
       "      <th>0</th>\n",
       "      <td>3667963787</td>\n",
       "      <td>3312258926</td>\n",
       "      <td>2019-08-15</td>\n",
       "      <td>30.4</td>\n",
       "      <td>B</td>\n",
       "    </tr>\n",
       "    <tr>\n",
       "      <th>1</th>\n",
       "      <td>2804400009</td>\n",
       "      <td>3642806036</td>\n",
       "      <td>2019-08-15</td>\n",
       "      <td>15.2</td>\n",
       "      <td>B</td>\n",
       "    </tr>\n",
       "    <tr>\n",
       "      <th>3</th>\n",
       "      <td>3797467345</td>\n",
       "      <td>1196621759</td>\n",
       "      <td>2019-08-15</td>\n",
       "      <td>155.1</td>\n",
       "      <td>B</td>\n",
       "    </tr>\n",
       "    <tr>\n",
       "      <th>4</th>\n",
       "      <td>2282983706</td>\n",
       "      <td>2322279887</td>\n",
       "      <td>2019-08-15</td>\n",
       "      <td>40.5</td>\n",
       "      <td>B</td>\n",
       "    </tr>\n",
       "    <tr>\n",
       "      <th>5</th>\n",
       "      <td>182168103</td>\n",
       "      <td>935554773</td>\n",
       "      <td>2019-08-15</td>\n",
       "      <td>35.0</td>\n",
       "      <td>B</td>\n",
       "    </tr>\n",
       "  </tbody>\n",
       "</table>\n",
       "</div>"
      ],
      "text/plain": [
       "   transaction_id  visitor_id       date  revenue group\n",
       "0      3667963787  3312258926 2019-08-15     30.4     B\n",
       "1      2804400009  3642806036 2019-08-15     15.2     B\n",
       "3      3797467345  1196621759 2019-08-15    155.1     B\n",
       "4      2282983706  2322279887 2019-08-15     40.5     B\n",
       "5       182168103   935554773 2019-08-15     35.0     B"
      ]
     },
     "execution_count": 55,
     "metadata": {},
     "output_type": "execute_result"
    }
   ],
   "source": [
    "# ahora se filtra el DataFrame 'orders_us' en donde no se tengan estos usuarios\n",
    "orders_us = orders_us[~orders_us['visitor_id'].isin(list(common_visitors))]\n",
    "orders_us.head()"
   ]
  },
  {
   "cell_type": "code",
   "execution_count": 56,
   "metadata": {},
   "outputs": [
    {
     "data": {
      "text/html": [
       "<div>\n",
       "<style scoped>\n",
       "    .dataframe tbody tr th:only-of-type {\n",
       "        vertical-align: middle;\n",
       "    }\n",
       "\n",
       "    .dataframe tbody tr th {\n",
       "        vertical-align: top;\n",
       "    }\n",
       "\n",
       "    .dataframe thead th {\n",
       "        text-align: right;\n",
       "    }\n",
       "</style>\n",
       "<table border=\"1\" class=\"dataframe\">\n",
       "  <thead>\n",
       "    <tr style=\"text-align: right;\">\n",
       "      <th></th>\n",
       "      <th>date</th>\n",
       "      <th>group</th>\n",
       "    </tr>\n",
       "  </thead>\n",
       "  <tbody>\n",
       "    <tr>\n",
       "      <th>0</th>\n",
       "      <td>2019-08-15</td>\n",
       "      <td>B</td>\n",
       "    </tr>\n",
       "    <tr>\n",
       "      <th>7</th>\n",
       "      <td>2019-08-15</td>\n",
       "      <td>A</td>\n",
       "    </tr>\n",
       "    <tr>\n",
       "      <th>45</th>\n",
       "      <td>2019-08-16</td>\n",
       "      <td>A</td>\n",
       "    </tr>\n",
       "    <tr>\n",
       "      <th>47</th>\n",
       "      <td>2019-08-16</td>\n",
       "      <td>B</td>\n",
       "    </tr>\n",
       "    <tr>\n",
       "      <th>55</th>\n",
       "      <td>2019-08-01</td>\n",
       "      <td>A</td>\n",
       "    </tr>\n",
       "  </tbody>\n",
       "</table>\n",
       "</div>"
      ],
      "text/plain": [
       "         date group\n",
       "0  2019-08-15     B\n",
       "7  2019-08-15     A\n",
       "45 2019-08-16     A\n",
       "47 2019-08-16     B\n",
       "55 2019-08-01     A"
      ]
     },
     "execution_count": 56,
     "metadata": {},
     "output_type": "execute_result"
    }
   ],
   "source": [
    "# se crea una matriz con valores únicos de parejas fecha-grupo con el método drop_duplicates()\n",
    "datesGroups = orders_us[['date', 'group']].drop_duplicates()\n",
    "datesGroups.head()"
   ]
  },
  {
   "cell_type": "code",
   "execution_count": 58,
   "metadata": {
    "scrolled": true
   },
   "outputs": [
    {
     "data": {
      "text/html": [
       "<div>\n",
       "<style scoped>\n",
       "    .dataframe tbody tr th:only-of-type {\n",
       "        vertical-align: middle;\n",
       "    }\n",
       "\n",
       "    .dataframe tbody tr th {\n",
       "        vertical-align: top;\n",
       "    }\n",
       "\n",
       "    .dataframe thead th {\n",
       "        text-align: right;\n",
       "    }\n",
       "</style>\n",
       "<table border=\"1\" class=\"dataframe\">\n",
       "  <thead>\n",
       "    <tr style=\"text-align: right;\">\n",
       "      <th></th>\n",
       "      <th>date</th>\n",
       "      <th>group</th>\n",
       "      <th>transaction_id</th>\n",
       "      <th>visitor_id</th>\n",
       "      <th>revenue</th>\n",
       "    </tr>\n",
       "  </thead>\n",
       "  <tbody>\n",
       "    <tr>\n",
       "      <th>55</th>\n",
       "      <td>2019-08-01</td>\n",
       "      <td>A</td>\n",
       "      <td>23</td>\n",
       "      <td>19</td>\n",
       "      <td>2266.6</td>\n",
       "    </tr>\n",
       "    <tr>\n",
       "      <th>66</th>\n",
       "      <td>2019-08-01</td>\n",
       "      <td>B</td>\n",
       "      <td>17</td>\n",
       "      <td>17</td>\n",
       "      <td>967.2</td>\n",
       "    </tr>\n",
       "    <tr>\n",
       "      <th>175</th>\n",
       "      <td>2019-08-02</td>\n",
       "      <td>A</td>\n",
       "      <td>42</td>\n",
       "      <td>36</td>\n",
       "      <td>3734.9</td>\n",
       "    </tr>\n",
       "    <tr>\n",
       "      <th>173</th>\n",
       "      <td>2019-08-02</td>\n",
       "      <td>B</td>\n",
       "      <td>40</td>\n",
       "      <td>39</td>\n",
       "      <td>3535.3</td>\n",
       "    </tr>\n",
       "    <tr>\n",
       "      <th>291</th>\n",
       "      <td>2019-08-03</td>\n",
       "      <td>A</td>\n",
       "      <td>66</td>\n",
       "      <td>60</td>\n",
       "      <td>5550.1</td>\n",
       "    </tr>\n",
       "  </tbody>\n",
       "</table>\n",
       "</div>"
      ],
      "text/plain": [
       "          date group  transaction_id  visitor_id  revenue\n",
       "55  2019-08-01     A              23          19   2266.6\n",
       "66  2019-08-01     B              17          17    967.2\n",
       "175 2019-08-02     A              42          36   3734.9\n",
       "173 2019-08-02     B              40          39   3535.3\n",
       "291 2019-08-03     A              66          60   5550.1"
      ]
     },
     "execution_count": 58,
     "metadata": {},
     "output_type": "execute_result"
    }
   ],
   "source": [
    "# se declara la variable ordersAggregated para almacenar: \n",
    "# la fecha\n",
    "# el grupo del test A/B\n",
    "# el número de pedidos distintos para el grupo de prueba hasta la fecha especificada incluida\n",
    "# el número de usuarios distintos en el grupo de prueba que realizan al menos un pedido hasta la fecha especificada incluida\n",
    "# ingresos totales de pedidos en el grupo de prueba hasta la fecha especificada incluida\n",
    "ordersAggregated = datesGroups.apply(lambda x: orders_us[np.logical_and(orders_us['date'] <= x['date'], orders_us['group'] == x['group'])].agg({'date' : 'max', 'group' : 'max', 'transaction_id' : pd.Series.nunique, 'visitor_id' : pd.Series.nunique, 'revenue' : 'sum'}), axis=1).sort_values(by=['date','group'])\n",
    "ordersAggregated.head()"
   ]
  },
  {
   "cell_type": "code",
   "execution_count": 59,
   "metadata": {
    "scrolled": true
   },
   "outputs": [
    {
     "data": {
      "text/html": [
       "<div>\n",
       "<style scoped>\n",
       "    .dataframe tbody tr th:only-of-type {\n",
       "        vertical-align: middle;\n",
       "    }\n",
       "\n",
       "    .dataframe tbody tr th {\n",
       "        vertical-align: top;\n",
       "    }\n",
       "\n",
       "    .dataframe thead th {\n",
       "        text-align: right;\n",
       "    }\n",
       "</style>\n",
       "<table border=\"1\" class=\"dataframe\">\n",
       "  <thead>\n",
       "    <tr style=\"text-align: right;\">\n",
       "      <th></th>\n",
       "      <th>date</th>\n",
       "      <th>group</th>\n",
       "      <th>visits</th>\n",
       "    </tr>\n",
       "  </thead>\n",
       "  <tbody>\n",
       "    <tr>\n",
       "      <th>55</th>\n",
       "      <td>2019-08-01</td>\n",
       "      <td>A</td>\n",
       "      <td>719</td>\n",
       "    </tr>\n",
       "    <tr>\n",
       "      <th>66</th>\n",
       "      <td>2019-08-01</td>\n",
       "      <td>B</td>\n",
       "      <td>713</td>\n",
       "    </tr>\n",
       "    <tr>\n",
       "      <th>175</th>\n",
       "      <td>2019-08-02</td>\n",
       "      <td>A</td>\n",
       "      <td>1338</td>\n",
       "    </tr>\n",
       "    <tr>\n",
       "      <th>173</th>\n",
       "      <td>2019-08-02</td>\n",
       "      <td>B</td>\n",
       "      <td>1294</td>\n",
       "    </tr>\n",
       "    <tr>\n",
       "      <th>291</th>\n",
       "      <td>2019-08-03</td>\n",
       "      <td>A</td>\n",
       "      <td>1845</td>\n",
       "    </tr>\n",
       "  </tbody>\n",
       "</table>\n",
       "</div>"
      ],
      "text/plain": [
       "          date group  visits\n",
       "55  2019-08-01     A     719\n",
       "66  2019-08-01     B     713\n",
       "175 2019-08-02     A    1338\n",
       "173 2019-08-02     B    1294\n",
       "291 2019-08-03     A    1845"
      ]
     },
     "execution_count": 59,
     "metadata": {},
     "output_type": "execute_result"
    }
   ],
   "source": [
    "# se hace algo parecido para obtener los datos diarios acumulados agregados sobre los visitantes\n",
    "# s declara la variable visitorsAggregated para almacenar:\n",
    "# la fecha\n",
    "# el grupo del test A/B\n",
    "# el número de pedidos distintos para el grupo de prueba hasta la fecha especificada incluida\n",
    "visitorsAggregated = datesGroups.apply(lambda x: visits_us[np.logical_and(visits_us['date'] <= x['date'], visits_us['group'] == x['group'])].agg({'date' : 'max', 'group' : 'max', 'visits' : 'sum'}), axis=1).sort_values(by=['date','group'])\n",
    "visitorsAggregated.head()"
   ]
  },
  {
   "cell_type": "code",
   "execution_count": 60,
   "metadata": {
    "scrolled": true
   },
   "outputs": [
    {
     "data": {
      "text/html": [
       "<div>\n",
       "<style scoped>\n",
       "    .dataframe tbody tr th:only-of-type {\n",
       "        vertical-align: middle;\n",
       "    }\n",
       "\n",
       "    .dataframe tbody tr th {\n",
       "        vertical-align: top;\n",
       "    }\n",
       "\n",
       "    .dataframe thead th {\n",
       "        text-align: right;\n",
       "    }\n",
       "</style>\n",
       "<table border=\"1\" class=\"dataframe\">\n",
       "  <thead>\n",
       "    <tr style=\"text-align: right;\">\n",
       "      <th></th>\n",
       "      <th>date</th>\n",
       "      <th>group</th>\n",
       "      <th>orders</th>\n",
       "      <th>buyers</th>\n",
       "      <th>revenue</th>\n",
       "      <th>visitors</th>\n",
       "    </tr>\n",
       "  </thead>\n",
       "  <tbody>\n",
       "    <tr>\n",
       "      <th>0</th>\n",
       "      <td>2019-08-01</td>\n",
       "      <td>A</td>\n",
       "      <td>23</td>\n",
       "      <td>19</td>\n",
       "      <td>2266.6</td>\n",
       "      <td>719</td>\n",
       "    </tr>\n",
       "    <tr>\n",
       "      <th>1</th>\n",
       "      <td>2019-08-01</td>\n",
       "      <td>B</td>\n",
       "      <td>17</td>\n",
       "      <td>17</td>\n",
       "      <td>967.2</td>\n",
       "      <td>713</td>\n",
       "    </tr>\n",
       "    <tr>\n",
       "      <th>2</th>\n",
       "      <td>2019-08-02</td>\n",
       "      <td>A</td>\n",
       "      <td>42</td>\n",
       "      <td>36</td>\n",
       "      <td>3734.9</td>\n",
       "      <td>1338</td>\n",
       "    </tr>\n",
       "    <tr>\n",
       "      <th>3</th>\n",
       "      <td>2019-08-02</td>\n",
       "      <td>B</td>\n",
       "      <td>40</td>\n",
       "      <td>39</td>\n",
       "      <td>3535.3</td>\n",
       "      <td>1294</td>\n",
       "    </tr>\n",
       "    <tr>\n",
       "      <th>4</th>\n",
       "      <td>2019-08-03</td>\n",
       "      <td>A</td>\n",
       "      <td>66</td>\n",
       "      <td>60</td>\n",
       "      <td>5550.1</td>\n",
       "      <td>1845</td>\n",
       "    </tr>\n",
       "  </tbody>\n",
       "</table>\n",
       "</div>"
      ],
      "text/plain": [
       "        date group  orders  buyers  revenue  visitors\n",
       "0 2019-08-01     A      23      19   2266.6       719\n",
       "1 2019-08-01     B      17      17    967.2       713\n",
       "2 2019-08-02     A      42      36   3734.9      1338\n",
       "3 2019-08-02     B      40      39   3535.3      1294\n",
       "4 2019-08-03     A      66      60   5550.1      1845"
      ]
     },
     "execution_count": 60,
     "metadata": {},
     "output_type": "execute_result"
    }
   ],
   "source": [
    "# se fusionan los dos DataFrames 'ordersAggregated' y 'visitorsAggregated' en uno por las columnas 'date' y 'group'\n",
    "cumulativeData = ordersAggregated.merge(visitorsAggregated, left_on=['date', 'group'], right_on=['date', 'group'])\n",
    "# se dan a sus columnas nombres descriptivos\n",
    "# se asignan los nombres ['date', 'group', 'orders', 'buyers', 'revenue', 'visitors'] a las columnas en cumulativeData\n",
    "cumulativeData.columns = ['date', 'group', 'orders', 'buyers', 'revenue', 'visitors']\n",
    "cumulativeData.head()"
   ]
  },
  {
   "cell_type": "markdown",
   "metadata": {},
   "source": [
    "<div style=\"background-color: lightyellow; padding: 10px;\">\n",
    "\n",
    "<span style=\"color: darkblue;\">  \n",
    "      \n",
    "Se declaran las variables `cumulativeRevenueA` y `cumulativeRevenueB`, donde se almacenan los datos sobre fechas, ingresos y número de pedidos para los grupos A y B \n",
    "    \n",
    "    \n",
    "</span>\n",
    "    \n",
    "</div>"
   ]
  },
  {
   "cell_type": "code",
   "execution_count": 61,
   "metadata": {},
   "outputs": [
    {
     "data": {
      "text/html": [
       "<div>\n",
       "<style scoped>\n",
       "    .dataframe tbody tr th:only-of-type {\n",
       "        vertical-align: middle;\n",
       "    }\n",
       "\n",
       "    .dataframe tbody tr th {\n",
       "        vertical-align: top;\n",
       "    }\n",
       "\n",
       "    .dataframe thead th {\n",
       "        text-align: right;\n",
       "    }\n",
       "</style>\n",
       "<table border=\"1\" class=\"dataframe\">\n",
       "  <thead>\n",
       "    <tr style=\"text-align: right;\">\n",
       "      <th></th>\n",
       "      <th>date</th>\n",
       "      <th>revenue</th>\n",
       "      <th>orders</th>\n",
       "    </tr>\n",
       "  </thead>\n",
       "  <tbody>\n",
       "    <tr>\n",
       "      <th>0</th>\n",
       "      <td>2019-08-01</td>\n",
       "      <td>2266.6</td>\n",
       "      <td>23</td>\n",
       "    </tr>\n",
       "    <tr>\n",
       "      <th>2</th>\n",
       "      <td>2019-08-02</td>\n",
       "      <td>3734.9</td>\n",
       "      <td>42</td>\n",
       "    </tr>\n",
       "    <tr>\n",
       "      <th>4</th>\n",
       "      <td>2019-08-03</td>\n",
       "      <td>5550.1</td>\n",
       "      <td>66</td>\n",
       "    </tr>\n",
       "    <tr>\n",
       "      <th>6</th>\n",
       "      <td>2019-08-04</td>\n",
       "      <td>6225.6</td>\n",
       "      <td>77</td>\n",
       "    </tr>\n",
       "    <tr>\n",
       "      <th>8</th>\n",
       "      <td>2019-08-05</td>\n",
       "      <td>7623.6</td>\n",
       "      <td>99</td>\n",
       "    </tr>\n",
       "  </tbody>\n",
       "</table>\n",
       "</div>"
      ],
      "text/plain": [
       "        date  revenue  orders\n",
       "0 2019-08-01   2266.6      23\n",
       "2 2019-08-02   3734.9      42\n",
       "4 2019-08-03   5550.1      66\n",
       "6 2019-08-04   6225.6      77\n",
       "8 2019-08-05   7623.6      99"
      ]
     },
     "execution_count": 61,
     "metadata": {},
     "output_type": "execute_result"
    }
   ],
   "source": [
    "# DataFrame con pedidos acumulados e ingresos acumulados por día, grupo A\n",
    "cumulativeRevenueA = cumulativeData[cumulativeData['group']=='A'][['date','revenue', 'orders']]\n",
    "cumulativeRevenueA.head()"
   ]
  },
  {
   "cell_type": "code",
   "execution_count": 62,
   "metadata": {},
   "outputs": [
    {
     "data": {
      "text/html": [
       "<div>\n",
       "<style scoped>\n",
       "    .dataframe tbody tr th:only-of-type {\n",
       "        vertical-align: middle;\n",
       "    }\n",
       "\n",
       "    .dataframe tbody tr th {\n",
       "        vertical-align: top;\n",
       "    }\n",
       "\n",
       "    .dataframe thead th {\n",
       "        text-align: right;\n",
       "    }\n",
       "</style>\n",
       "<table border=\"1\" class=\"dataframe\">\n",
       "  <thead>\n",
       "    <tr style=\"text-align: right;\">\n",
       "      <th></th>\n",
       "      <th>date</th>\n",
       "      <th>revenue</th>\n",
       "      <th>orders</th>\n",
       "    </tr>\n",
       "  </thead>\n",
       "  <tbody>\n",
       "    <tr>\n",
       "      <th>1</th>\n",
       "      <td>2019-08-01</td>\n",
       "      <td>967.2</td>\n",
       "      <td>17</td>\n",
       "    </tr>\n",
       "    <tr>\n",
       "      <th>3</th>\n",
       "      <td>2019-08-02</td>\n",
       "      <td>3535.3</td>\n",
       "      <td>40</td>\n",
       "    </tr>\n",
       "    <tr>\n",
       "      <th>5</th>\n",
       "      <td>2019-08-03</td>\n",
       "      <td>4606.9</td>\n",
       "      <td>54</td>\n",
       "    </tr>\n",
       "    <tr>\n",
       "      <th>7</th>\n",
       "      <td>2019-08-04</td>\n",
       "      <td>6138.5</td>\n",
       "      <td>68</td>\n",
       "    </tr>\n",
       "    <tr>\n",
       "      <th>9</th>\n",
       "      <td>2019-08-05</td>\n",
       "      <td>7587.8</td>\n",
       "      <td>89</td>\n",
       "    </tr>\n",
       "  </tbody>\n",
       "</table>\n",
       "</div>"
      ],
      "text/plain": [
       "        date  revenue  orders\n",
       "1 2019-08-01    967.2      17\n",
       "3 2019-08-02   3535.3      40\n",
       "5 2019-08-03   4606.9      54\n",
       "7 2019-08-04   6138.5      68\n",
       "9 2019-08-05   7587.8      89"
      ]
     },
     "execution_count": 62,
     "metadata": {},
     "output_type": "execute_result"
    }
   ],
   "source": [
    "# DataFrame con pedidos acumulados e ingresos acumulados por día, grupo B\n",
    "cumulativeRevenueB = cumulativeData[cumulativeData['group']=='B'][['date','revenue', 'orders']]\n",
    "cumulativeRevenueB.head()"
   ]
  },
  {
   "cell_type": "code",
   "execution_count": 63,
   "metadata": {
    "scrolled": false
   },
   "outputs": [
    {
     "data": {
      "image/png": "[encoded data removed]",
      "text/plain": [
       "<Figure size 720x432 with 1 Axes>"
      ]
     },
     "metadata": {
      "needs_background": "light"
     },
     "output_type": "display_data"
    }
   ],
   "source": [
    "# ajustar los valores de ancho y alto del gráfico\n",
    "plt.figure(figsize=(10, 6))\n",
    "# se traza el gráfico de ingresos del grupo A\n",
    "plt.plot(cumulativeRevenueA['date'], cumulativeRevenueA['revenue'], label='A')\n",
    "\n",
    "# se traza el gráfico de ingresos del grupo B\n",
    "plt.plot(cumulativeRevenueB['date'], cumulativeRevenueB['revenue'], label='B')\n",
    "\n",
    "plt.legend()\n",
    "# se rotan las fechas en el eje x a 45 grados\n",
    "plt.xticks(rotation=45)\n",
    "\n",
    "# se asigna un nombre\n",
    "plt.title('Gráfico de Ingresos para los Grupos A y B')\n",
    "# se nombran los ejes\n",
    "plt.xlabel('Fecha', fontsize= 12)\n",
    "plt.ylabel('Ingresos', fontsize= 12)\n",
    "\n",
    "# se muestra el gráfico\n",
    "plt.show()"
   ]
  },
  {
   "cell_type": "markdown",
   "metadata": {},
   "source": [
    "<div style=\"background-color: lightyellow; padding: 10px;\">\n",
    "\n",
    "<span style=\"color: darkblue;\">  \n",
    "    \n",
    "**Conclusiones:**  \n",
    "Los ingresos aumentan durante toda la prueba, sin embargo, el grupo B lo hace con mayor rapidez que el grupo A. Después del 17-08-2019 los ingresos del grupo B aumentan drásticamente, a diferencia del grupo A que lo hace con menor velocidad. Lo anterior se puede deber a un aumento en el número de los pedidos o pedidos que son muy costosos.  \n",
    "    \n",
    "</span>\n",
    "    \n",
    "</div>"
   ]
  },
  {
   "cell_type": "markdown",
   "metadata": {},
   "source": [
    "### Tamaño de Pedido Promedio Acumulado por Grupo. <a id='acumulado_pedido'></a>"
   ]
  },
  {
   "cell_type": "markdown",
   "metadata": {},
   "source": [
    "<div style=\"background-color: lightyellow; padding: 10px;\">\n",
    "\n",
    "<span style=\"color: darkblue;\">  \n",
    "    \n",
    "****  \n",
    "Ahora se traza el tamaño promedio de compra por grupo. Se dividen los ingresos acumulados entre el número acumulado de pedidos. \n",
    "    \n",
    "</span>\n",
    "    \n",
    "</div>"
   ]
  },
  {
   "cell_type": "code",
   "execution_count": 64,
   "metadata": {},
   "outputs": [
    {
     "data": {
      "image/png": "[encoded data removed]",
      "text/plain": [
       "<Figure size 720x432 with 1 Axes>"
      ]
     },
     "metadata": {
      "needs_background": "light"
     },
     "output_type": "display_data"
    }
   ],
   "source": [
    "# se ajustan los valores de ancho y alto del gráfico\n",
    "plt.figure(figsize=(10, 6))\n",
    "\n",
    "# se traza el gráfico del tamaño promedio de compra por el grupo A\n",
    "plt.plot(cumulativeRevenueA['date'], cumulativeRevenueA['revenue']/cumulativeRevenueA['orders'], label='A')\n",
    "# se traza el gráfico del tamaño promedio de compra por el grupo B\n",
    "plt.plot(cumulativeRevenueB['date'], cumulativeRevenueB['revenue']/cumulativeRevenueB['orders'], label='B')\n",
    "\n",
    "plt.legend()\n",
    "\n",
    "# se rotan las fechas en el eje x a 45 grados\n",
    "plt.xticks(rotation=45)\n",
    "\n",
    "# se asigna un nombre\n",
    "plt.title('Gráfico del Tamaño Promedio Acumulado de Compra para los Grupos A y B')\n",
    "# se nombran los ejes\n",
    "plt.xlabel('Fecha', fontsize= 12)\n",
    "plt.ylabel('Tamaño de Pedido Promedio', fontsize= 12)\n",
    "\n",
    "# se muestra el gráfico\n",
    "plt.show()"
   ]
  },
  {
   "cell_type": "markdown",
   "metadata": {},
   "source": [
    "<div style=\"background-color: lightyellow; padding: 10px;\">\n",
    "\n",
    "<span style=\"color: darkblue;\">  \n",
    "    \n",
    "**Conclusiones:**  \n",
    "El tamaño promedio de compra del grupo B aumenta mucho depués del 17-08-2019, se aprecia un pico y después disminuye y se estabiliza al final. Mientras que, el grupo A también aumenta pero en menor medida, también al final parece estabilizarse.\n",
    "    \n",
    "</span>\n",
    "    \n",
    "</div>"
   ]
  },
  {
   "cell_type": "markdown",
   "metadata": {},
   "source": [
    "### Diferencia relativa en el tamaño de pedido promedio acumulado para el grupo B en comparación con el grupo A. <a id='dif_rel_pedidos'></a>"
   ]
  },
  {
   "cell_type": "markdown",
   "metadata": {},
   "source": [
    "<div style=\"background-color: lightyellow; padding: 10px;\">\n",
    "\n",
    "<span style=\"color: darkblue;\">  \n",
    "    \n",
    "****  \n",
    "Se traza un gráfico de diferencia relativa para los tamaños promedio de compra para el grupo B en comparación con el grupo A.  \n",
    "    \n",
    "</span>\n",
    "    \n",
    "</div>"
   ]
  },
  {
   "cell_type": "code",
   "execution_count": 65,
   "metadata": {},
   "outputs": [
    {
     "data": {
      "text/html": [
       "<div>\n",
       "<style scoped>\n",
       "    .dataframe tbody tr th:only-of-type {\n",
       "        vertical-align: middle;\n",
       "    }\n",
       "\n",
       "    .dataframe tbody tr th {\n",
       "        vertical-align: top;\n",
       "    }\n",
       "\n",
       "    .dataframe thead th {\n",
       "        text-align: right;\n",
       "    }\n",
       "</style>\n",
       "<table border=\"1\" class=\"dataframe\">\n",
       "  <thead>\n",
       "    <tr style=\"text-align: right;\">\n",
       "      <th></th>\n",
       "      <th>date</th>\n",
       "      <th>revenueA</th>\n",
       "      <th>ordersA</th>\n",
       "      <th>revenueB</th>\n",
       "      <th>ordersB</th>\n",
       "    </tr>\n",
       "  </thead>\n",
       "  <tbody>\n",
       "    <tr>\n",
       "      <th>0</th>\n",
       "      <td>2019-08-01</td>\n",
       "      <td>2266.6</td>\n",
       "      <td>23</td>\n",
       "      <td>967.2</td>\n",
       "      <td>17</td>\n",
       "    </tr>\n",
       "    <tr>\n",
       "      <th>1</th>\n",
       "      <td>2019-08-02</td>\n",
       "      <td>3734.9</td>\n",
       "      <td>42</td>\n",
       "      <td>3535.3</td>\n",
       "      <td>40</td>\n",
       "    </tr>\n",
       "    <tr>\n",
       "      <th>2</th>\n",
       "      <td>2019-08-03</td>\n",
       "      <td>5550.1</td>\n",
       "      <td>66</td>\n",
       "      <td>4606.9</td>\n",
       "      <td>54</td>\n",
       "    </tr>\n",
       "    <tr>\n",
       "      <th>3</th>\n",
       "      <td>2019-08-04</td>\n",
       "      <td>6225.6</td>\n",
       "      <td>77</td>\n",
       "      <td>6138.5</td>\n",
       "      <td>68</td>\n",
       "    </tr>\n",
       "    <tr>\n",
       "      <th>4</th>\n",
       "      <td>2019-08-05</td>\n",
       "      <td>7623.6</td>\n",
       "      <td>99</td>\n",
       "      <td>7587.8</td>\n",
       "      <td>89</td>\n",
       "    </tr>\n",
       "  </tbody>\n",
       "</table>\n",
       "</div>"
      ],
      "text/plain": [
       "        date  revenueA  ordersA  revenueB  ordersB\n",
       "0 2019-08-01    2266.6       23     967.2       17\n",
       "1 2019-08-02    3734.9       42    3535.3       40\n",
       "2 2019-08-03    5550.1       66    4606.9       54\n",
       "3 2019-08-04    6225.6       77    6138.5       68\n",
       "4 2019-08-05    7623.6       99    7587.8       89"
      ]
     },
     "execution_count": 65,
     "metadata": {},
     "output_type": "execute_result"
    }
   ],
   "source": [
    "# se reunen los datos en un sólo DataFrame de 'cumulativeRevenueA' y 'cumulativeRevenueB' con el método merge() \n",
    "# asi todo el DataFrame resultante contenga las columnas ['date', 'revenueA', 'revenueB', 'ordersA', 'ordersB']\n",
    "mergedCumulativeRevenue = cumulativeRevenueA.merge(cumulativeRevenueB, left_on='date', right_on='date', how='left', suffixes=['A', 'B'])\n",
    "mergedCumulativeRevenue.head()"
   ]
  },
  {
   "cell_type": "code",
   "execution_count": 66,
   "metadata": {},
   "outputs": [
    {
     "data": {
      "image/png": "[encoded data removed]",
      "text/plain": [
       "<Figure size 720x432 with 1 Axes>"
      ]
     },
     "metadata": {
      "needs_background": "light"
     },
     "output_type": "display_data"
    }
   ],
   "source": [
    "# se ajustan los valores de ancho y alto del gráfico\n",
    "plt.figure(figsize=(10, 6))\n",
    "\n",
    "# trazar un gráfico de diferencia relativa para los tamaños de compra promedio\n",
    "plt.plot(mergedCumulativeRevenue['date'], (mergedCumulativeRevenue['revenueB']/mergedCumulativeRevenue['ordersB'])/(mergedCumulativeRevenue['revenueA']/mergedCumulativeRevenue['ordersA'])-1)\n",
    "\n",
    "# agregar el eje X\n",
    "plt.axhline(y=0, color='black', linestyle='--')\n",
    "\n",
    "# se rotan las fechas en el eje x a 45 grados\n",
    "plt.xticks(rotation=45)\n",
    "\n",
    "# se asigna un nombre\n",
    "plt.title('Gráfico de Diferencia Relativa para los Tamaños de Compra Promedio')\n",
    "# se nombran los ejes\n",
    "plt.xlabel('Fecha', fontsize= 12)\n",
    "plt.ylabel('Diferencia Relativa', fontsize= 12)\n",
    "\n",
    "plt.show()"
   ]
  },
  {
   "cell_type": "markdown",
   "metadata": {},
   "source": [
    "<div style=\"background-color: lightyellow; padding: 10px;\">\n",
    "\n",
    "<span style=\"color: darkblue;\">  \n",
    "    \n",
    "**Conclusiones:**  \n",
    "En algunos puntos o fechas la diferencia entre los segmentos aumenta mucho y después disminuye, se puede deber a compras muy grandes o valores atípicos. Y sólo hay un valor que es menor que 0, después la diferencia aumenta y se vuelve positiva. Como primera suposición pareciera que el grupo B es porcentualmente más grande en comparación con el grupo A. Sin embargo, se deberá hacer un análisis para identificar valores atípicos.  \n",
    "    \n",
    "</span>\n",
    "    \n",
    "</div>"
   ]
  },
  {
   "cell_type": "markdown",
   "metadata": {},
   "source": [
    "### Tasa de conversión de cada grupo como la relación entre los pedidos y el número de visitas de cada día. <a id='conversion_acum'></a>"
   ]
  },
  {
   "cell_type": "markdown",
   "metadata": {},
   "source": [
    "<div style=\"background-color: lightyellow; padding: 10px;\">\n",
    "\n",
    "<span style=\"color: darkblue;\">  \n",
    "    \n",
    "****  \n",
    "Ahora se agrega la columna 'conversion' al DataFrame `cumulativeData`. Esta columna contiene la relación entre el número de pedidos y el número de usuarios/visitantes para un grupo específico en una fecha específica.  \n",
    "Se declaran las variables `cumulativeDataA_` y `cumulativeDataB_`, donde almacenarán los datos de los pedidos en los segmentos A y B. Y se traza el gráfico de conversión acumulada diaria de cada grupo.\n",
    "    \n",
    "</span>\n",
    "    \n",
    "</div>"
   ]
  },
  {
   "cell_type": "code",
   "execution_count": 67,
   "metadata": {},
   "outputs": [],
   "source": [
    "# se calcula la conversión acumulada\n",
    "cumulativeData['conversion'] = cumulativeData['orders']/cumulativeData['visitors']\n",
    "\n",
    "# se seleccionan datos en el grupo A\n",
    "cumulativeDataA_ = cumulativeData[cumulativeData['group']=='A']\n",
    "\n",
    "# se seleccionan datos en el grupo B\n",
    "cumulativeDataB_ = cumulativeData[cumulativeData['group']=='B']"
   ]
  },
  {
   "cell_type": "code",
   "execution_count": 68,
   "metadata": {},
   "outputs": [
    {
     "data": {
      "image/png": "[encoded data removed]",
      "text/plain": [
       "<Figure size 720x432 with 1 Axes>"
      ]
     },
     "metadata": {
      "needs_background": "light"
     },
     "output_type": "display_data"
    }
   ],
   "source": [
    "# se ajustan los valores de ancho y alto del gráfico\n",
    "plt.figure(figsize=(10, 6))\n",
    "\n",
    "# se trazan los gráficos\n",
    "plt.plot(cumulativeDataA_['date'], cumulativeDataA_['conversion'], label='A')\n",
    "plt.plot(cumulativeDataB_['date'], cumulativeDataB_['conversion'], label='B')\n",
    "\n",
    "plt.legend()\n",
    "\n",
    "# se rotan las fechas en el eje x a 45 grados\n",
    "plt.xticks(rotation=45)\n",
    "\n",
    "# se asigna un nombre\n",
    "plt.title('Gráfico de Conversión Acumulada para los Grupos A y B')\n",
    "# se nombran los ejes\n",
    "plt.xlabel('Fecha', fontsize= 12)\n",
    "plt.ylabel('Tamaño de Pedido Promedio', fontsize= 12)\n",
    "\n",
    "\n",
    "plt.show()"
   ]
  },
  {
   "cell_type": "markdown",
   "metadata": {},
   "source": [
    "<div style=\"background-color: lightyellow; padding: 10px;\">\n",
    "\n",
    "<span style=\"color: darkblue;\">  \n",
    "    \n",
    "**Conclusiones:**  \n",
    "En un inicio el grupo A tenía una tasa de conversión mayor que el grupo B, después la tasa de conversión del grupo B aumenta y al final se estabiliza, mientras que en el grupo A comienza a disminuir y para el final parece decrecer aún más. En ambos grupos la tasa de conversión fluctua y se observa que aparentemente el grupo B tiene una mayor tasa de conversión.\n",
    "    \n",
    "</span>\n",
    "    \n",
    "</div>"
   ]
  },
  {
   "cell_type": "markdown",
   "metadata": {},
   "source": [
    "### Tasas de conversión diarias de los dos grupos. <a id='conversion_diaria'></a>"
   ]
  },
  {
   "cell_type": "markdown",
   "metadata": {},
   "source": [
    "<div style=\"background-color: lightyellow; padding: 10px;\">\n",
    "\n",
    "<span style=\"color: darkblue;\">  \n",
    "    \n",
    "****  \n",
    "Ahora se trazará un gráfico de diferencia relativa para las tasas de conversión acumuladas, se unen los DatFrame `cumulativeDataA` y `cumulativeDataB` utilizando el método `merge()`. \n",
    "    \n",
    "</span>\n",
    "    \n",
    "</div>"
   ]
  },
  {
   "cell_type": "code",
   "execution_count": 69,
   "metadata": {
    "scrolled": false
   },
   "outputs": [
    {
     "data": {
      "text/html": [
       "<div>\n",
       "<style scoped>\n",
       "    .dataframe tbody tr th:only-of-type {\n",
       "        vertical-align: middle;\n",
       "    }\n",
       "\n",
       "    .dataframe tbody tr th {\n",
       "        vertical-align: top;\n",
       "    }\n",
       "\n",
       "    .dataframe thead th {\n",
       "        text-align: right;\n",
       "    }\n",
       "</style>\n",
       "<table border=\"1\" class=\"dataframe\">\n",
       "  <thead>\n",
       "    <tr style=\"text-align: right;\">\n",
       "      <th></th>\n",
       "      <th>date</th>\n",
       "      <th>conversionA</th>\n",
       "      <th>conversionB</th>\n",
       "    </tr>\n",
       "  </thead>\n",
       "  <tbody>\n",
       "    <tr>\n",
       "      <th>0</th>\n",
       "      <td>2019-08-01</td>\n",
       "      <td>0.031989</td>\n",
       "      <td>0.023843</td>\n",
       "    </tr>\n",
       "    <tr>\n",
       "      <th>1</th>\n",
       "      <td>2019-08-02</td>\n",
       "      <td>0.031390</td>\n",
       "      <td>0.030912</td>\n",
       "    </tr>\n",
       "    <tr>\n",
       "      <th>2</th>\n",
       "      <td>2019-08-03</td>\n",
       "      <td>0.035772</td>\n",
       "      <td>0.029950</td>\n",
       "    </tr>\n",
       "    <tr>\n",
       "      <th>3</th>\n",
       "      <td>2019-08-04</td>\n",
       "      <td>0.030055</td>\n",
       "      <td>0.026428</td>\n",
       "    </tr>\n",
       "    <tr>\n",
       "      <th>4</th>\n",
       "      <td>2019-08-05</td>\n",
       "      <td>0.029837</td>\n",
       "      <td>0.027134</td>\n",
       "    </tr>\n",
       "  </tbody>\n",
       "</table>\n",
       "</div>"
      ],
      "text/plain": [
       "        date  conversionA  conversionB\n",
       "0 2019-08-01     0.031989     0.023843\n",
       "1 2019-08-02     0.031390     0.030912\n",
       "2 2019-08-03     0.035772     0.029950\n",
       "3 2019-08-04     0.030055     0.026428\n",
       "4 2019-08-05     0.029837     0.027134"
      ]
     },
     "execution_count": 69,
     "metadata": {},
     "output_type": "execute_result"
    }
   ],
   "source": [
    "# se unen los DataFrame, el DataFrame resultante tiene las columnas ['date', 'conversionA', 'conversionB']\n",
    "# se guarda en mergedCumulativeConversions\n",
    "mergedCumulativeConversions = cumulativeDataA_[['date','conversion']].merge(cumulativeDataB_[['date','conversion']], left_on='date', right_on='date', how='left', suffixes=['A', 'B'])\n",
    "mergedCumulativeConversions.head()"
   ]
  },
  {
   "cell_type": "code",
   "execution_count": 70,
   "metadata": {},
   "outputs": [
    {
     "data": {
      "image/png": "[encoded data removed]",
      "text/plain": [
       "<Figure size 720x432 with 1 Axes>"
      ]
     },
     "metadata": {
      "needs_background": "light"
     },
     "output_type": "display_data"
    }
   ],
   "source": [
    "# se ajustan los valores de ancho y alto del gráfico\n",
    "plt.figure(figsize=(10, 6))\n",
    "\n",
    "# se traza la diferencia relativa entre la tasa de conversión acumulada del grupo B en comparación con la del grupo A\n",
    "plt.plot(mergedCumulativeConversions['date'], mergedCumulativeConversions['conversionB']/mergedCumulativeConversions['conversionA']-1)\n",
    "\n",
    "# se rotan las fechas en el eje x a 45 grados\n",
    "plt.xticks(rotation=45)\n",
    "\n",
    "# se asigna un nombre\n",
    "plt.title('Gráfico de Diferencia Relativa para las Tasas de Conversión Acumuladas')\n",
    "# se nombran los ejes\n",
    "plt.xlabel('Fecha', fontsize= 12)\n",
    "plt.ylabel('Tasas de Conversión', fontsize= 12)\n",
    "\n",
    "plt.axhline(y=0, color='black', linestyle='--')\n",
    "\n",
    "plt.show()"
   ]
  },
  {
   "cell_type": "markdown",
   "metadata": {},
   "source": [
    "<div style=\"background-color: lightyellow; padding: 10px;\">\n",
    "\n",
    "<span style=\"color: darkblue;\">  \n",
    "    \n",
    "**Conclusiones:**  \n",
    "En un inicio la tasa de conversión del grupo B es menor que el grupo A, posteriormente aumenta y así se mantine, aunque fluctua. No obstante, es mayor de  la tasa de conversión indicando que es más grande en comparación con el grupo A en un 20%. Aunque se hará un análisis de las anomalías que pudieran existir.  \n",
    "    \n",
    "</span>\n",
    "    \n",
    "</div>"
   ]
  },
  {
   "cell_type": "markdown",
   "metadata": {},
   "source": [
    "### Valores atípicos y aumentos: valores extremos <a id='atipicos'></a>"
   ]
  },
  {
   "cell_type": "markdown",
   "metadata": {},
   "source": [
    "<div style=\"background-color: lightyellow; padding: 10px;\">\n",
    "\n",
    "<span style=\"color: darkblue;\">  \n",
    "    \n",
    "****  \n",
    "Se buscan los datos atípicos, se realiza un gráfico de dispersión y se calculan los percentiles 95 y 99, tanto para el número de pedidos como para los ingresos.  \n",
    "    \n",
    "</span>\n",
    "    \n",
    "</div>"
   ]
  },
  {
   "cell_type": "markdown",
   "metadata": {},
   "source": [
    "#### Gráfico de dispersión del número de pedidos por usuario <a id='scatter_orders'></a>"
   ]
  },
  {
   "cell_type": "code",
   "execution_count": 71,
   "metadata": {},
   "outputs": [
    {
     "data": {
      "text/html": [
       "<div>\n",
       "<style scoped>\n",
       "    .dataframe tbody tr th:only-of-type {\n",
       "        vertical-align: middle;\n",
       "    }\n",
       "\n",
       "    .dataframe tbody tr th {\n",
       "        vertical-align: top;\n",
       "    }\n",
       "\n",
       "    .dataframe thead th {\n",
       "        text-align: right;\n",
       "    }\n",
       "</style>\n",
       "<table border=\"1\" class=\"dataframe\">\n",
       "  <thead>\n",
       "    <tr style=\"text-align: right;\">\n",
       "      <th></th>\n",
       "      <th>user_id</th>\n",
       "      <th>orders</th>\n",
       "    </tr>\n",
       "  </thead>\n",
       "  <tbody>\n",
       "    <tr>\n",
       "      <th>908</th>\n",
       "      <td>3967698036</td>\n",
       "      <td>3</td>\n",
       "    </tr>\n",
       "    <tr>\n",
       "      <th>55</th>\n",
       "      <td>249864742</td>\n",
       "      <td>3</td>\n",
       "    </tr>\n",
       "    <tr>\n",
       "      <th>478</th>\n",
       "      <td>2108163459</td>\n",
       "      <td>3</td>\n",
       "    </tr>\n",
       "    <tr>\n",
       "      <th>687</th>\n",
       "      <td>2988190573</td>\n",
       "      <td>3</td>\n",
       "    </tr>\n",
       "    <tr>\n",
       "      <th>890</th>\n",
       "      <td>3908431265</td>\n",
       "      <td>3</td>\n",
       "    </tr>\n",
       "    <tr>\n",
       "      <th>138</th>\n",
       "      <td>611059232</td>\n",
       "      <td>3</td>\n",
       "    </tr>\n",
       "    <tr>\n",
       "      <th>632</th>\n",
       "      <td>2742574263</td>\n",
       "      <td>3</td>\n",
       "    </tr>\n",
       "    <tr>\n",
       "      <th>157</th>\n",
       "      <td>678354126</td>\n",
       "      <td>2</td>\n",
       "    </tr>\n",
       "    <tr>\n",
       "      <th>323</th>\n",
       "      <td>1404560065</td>\n",
       "      <td>2</td>\n",
       "    </tr>\n",
       "    <tr>\n",
       "      <th>452</th>\n",
       "      <td>1985475298</td>\n",
       "      <td>2</td>\n",
       "    </tr>\n",
       "  </tbody>\n",
       "</table>\n",
       "</div>"
      ],
      "text/plain": [
       "        user_id  orders\n",
       "908  3967698036       3\n",
       "55    249864742       3\n",
       "478  2108163459       3\n",
       "687  2988190573       3\n",
       "890  3908431265       3\n",
       "138   611059232       3\n",
       "632  2742574263       3\n",
       "157   678354126       2\n",
       "323  1404560065       2\n",
       "452  1985475298       2"
      ]
     },
     "execution_count": 71,
     "metadata": {},
     "output_type": "execute_result"
    }
   ],
   "source": [
    "#* se encuentra el número de pedidos por usuario, para hacerlo, se crea un DataFrame con dos columnas:'visitor_id' y 'transaction_id'. \n",
    "# el resultado se guarda n ordersByUsers. Ordena los datos por el número de pedidos en orden \n",
    "ordersByUsers = (orders_us.drop(['group', 'revenue', 'date'], axis=1).groupby('visitor_id', as_index=False).agg({'transaction_id': pd.Series.nunique}))\n",
    "\n",
    "# se renombran las columnas\n",
    "ordersByUsers.columns = ['user_id', 'orders']\n",
    "\n",
    "# se imprimen 10 filas ordenadas de mayor a menor con base en el número de órdenes\n",
    "ordersByUsers.sort_values(by='orders', ascending= False).head(10)"
   ]
  },
  {
   "cell_type": "code",
   "execution_count": 72,
   "metadata": {},
   "outputs": [
    {
     "data": {
      "image/png": "[encoded data removed]",
      "text/plain": [
       "<Figure size 576x432 with 1 Axes>"
      ]
     },
     "metadata": {
      "needs_background": "light"
     },
     "output_type": "display_data"
    }
   ],
   "source": [
    "# se traza  un gráfico de dispersión con el número de pedidos por usuario\n",
    "# se asignan los valores del eje x\n",
    "\n",
    "# se ajustan los valores de ancho y alto del gráfico\n",
    "plt.figure(figsize=(8, 6))\n",
    "x_values = pd.Series(range(0, len(ordersByUsers)))\n",
    "\n",
    "plt.scatter(x_values, ordersByUsers['orders'])\n",
    "\n",
    "plt.show()"
   ]
  },
  {
   "cell_type": "markdown",
   "metadata": {},
   "source": [
    "<div style=\"background-color: lightyellow; padding: 10px;\">\n",
    "\n",
    "<span style=\"color: darkblue;\">  \n",
    "    \n",
    "**Observaciones:**  \n",
    "Hay muchos usuarios con 2 y 3 pedidos, por lo tanto se procede a calcular los percentiles 95 y 99 para el número de pedidos por usuario.\n",
    "    \n",
    "</span>\n",
    "    \n",
    "</div>"
   ]
  },
  {
   "cell_type": "code",
   "execution_count": 73,
   "metadata": {},
   "outputs": [
    {
     "name": "stdout",
     "output_type": "stream",
     "text": [
      "[1. 2.]\n"
     ]
    }
   ],
   "source": [
    "# con numpy se calculan los percentiles 95 y 99\n",
    "print(np.percentile(ordersByUsers['orders'], [95, 99]))"
   ]
  },
  {
   "cell_type": "markdown",
   "metadata": {},
   "source": [
    "<div style=\"background-color: lightyellow; padding: 10px;\">\n",
    "\n",
    "<span style=\"color: darkblue;\">  \n",
    "    \n",
    "**Conclusiones:**  \n",
    "No más del 5 % de los usuarios/as hicieron más de 1 pedido y no más del 1 % de los/las clientes realizan más de 2 pedidos. Por lo tanto, es razonable establecer 1 pedido por usuario como límite inferior para el número de pedidos y filtrar las anomalías en base a ello. \n",
    "    \n",
    "</span>\n",
    "    \n",
    "</div>"
   ]
  },
  {
   "cell_type": "markdown",
   "metadata": {},
   "source": [
    "#### Gráfico de dispersión de los precios de los pedidos <a id='scatter_price'></a>"
   ]
  },
  {
   "cell_type": "code",
   "execution_count": 74,
   "metadata": {},
   "outputs": [
    {
     "data": {
      "image/png": "[encoded data removed]",
      "text/plain": [
       "<Figure size 576x432 with 1 Axes>"
      ]
     },
     "metadata": {
      "needs_background": "light"
     },
     "output_type": "display_data"
    }
   ],
   "source": [
    "# se crea un gráfico de dispersión utilizando el método scatter()\n",
    "# se guardan los valores para el eje horizontal x_values_revenue: los números generados de observaciones.\n",
    "x_values_revenue = pd.Series(range(0, len(orders_us['revenue'])))\n",
    "\n",
    "# se toman los valores del eje vertical de la columna 'revenue' del DataFrame 'orders_us'\n",
    "plt.figure(figsize=(8, 6))\n",
    "plt.scatter(x_values_revenue, orders_us['revenue'])\n",
    "plt.show()"
   ]
  },
  {
   "cell_type": "code",
   "execution_count": 75,
   "metadata": {},
   "outputs": [
    {
     "name": "stdout",
     "output_type": "stream",
     "text": [
      "[414.275 830.3  ]\n"
     ]
    }
   ],
   "source": [
    "# con numpy se calculan los percentiles 95 y 99\n",
    "print(np.percentile(orders_us['revenue'], [95, 99]))"
   ]
  },
  {
   "cell_type": "markdown",
   "metadata": {},
   "source": [
    "<div style=\"background-color: lightyellow; padding: 10px;\">\n",
    "\n",
    "<span style=\"color: darkblue;\">  \n",
    "    \n",
    "**Conclusiones:**  \n",
    "No más del 5 % de los usuarios/as hicieron pedidos que costaron más de 414 y no más del 1 % de los/las clientes realizaron pedidos que costaron más de 830. Por lo tanto, es razonable establecer que el costo de los pedidos fue alrededor de 415.\n",
    "    \n",
    "</span>\n",
    "    \n",
    "</div>"
   ]
  },
  {
   "cell_type": "markdown",
   "metadata": {},
   "source": [
    "### Significancia estadística de la diferencia en la conversión entre los grupos con los datos en bruto <a id='sig_esta_conversion'></a>"
   ]
  },
  {
   "cell_type": "markdown",
   "metadata": {},
   "source": [
    "<div style=\"background-color: lightyellow; padding: 10px;\">\n",
    "\n",
    "<span style=\"color: darkblue;\">  \n",
    "    \n",
    "****  \n",
    "Se crean las variables `ordersByUsersA` y `ordersByUsersB` para almacenar las columnas ['user_id', 'orders']. Para los usuarios con al menos un pedido, se indica el número de pedidos realizados\n",
    "    \n",
    "</span>\n",
    "    \n",
    "</div>"
   ]
  },
  {
   "cell_type": "code",
   "execution_count": 76,
   "metadata": {},
   "outputs": [
    {
     "name": "stdout",
     "output_type": "stream",
     "text": [
      "Grupo A\n",
      "    user_id  orders\n",
      "0  11685486       1\n",
      "1  54447517       1\n",
      "2  66685450       1\n",
      "3  78758296       1\n",
      "4  85103373       1\n",
      "\n",
      "Grupo B\n",
      "    user_id  orders\n",
      "0   5114589       1\n",
      "1   6958315       1\n",
      "2  39475350       1\n",
      "3  47206413       1\n",
      "4  48147722       1\n"
     ]
    }
   ],
   "source": [
    "# se almacenan los valores para el grupo A\n",
    "ordersByUsersA = orders_us[orders_us['group']=='A'].groupby('visitor_id', as_index=False).agg({'transaction_id' : pd.Series.nunique})\n",
    "ordersByUsersA.columns = ['user_id', 'orders']\n",
    "\n",
    "# se almacenan los valores para el grupo B\n",
    "ordersByUsersB = orders_us[orders_us['group']=='B'].groupby('visitor_id', as_index=False).agg({'transaction_id' : pd.Series.nunique})\n",
    "ordersByUsersB.columns = ['user_id', 'orders']\n",
    "\n",
    "print('Grupo A')\n",
    "print(ordersByUsersA.head())\n",
    "print()\n",
    "print('Grupo B')\n",
    "print(ordersByUsersB.head())"
   ]
  },
  {
   "cell_type": "code",
   "execution_count": 77,
   "metadata": {},
   "outputs": [],
   "source": [
    "# se declara las variables sampleA y sampleB, con los usuarios que realizaron pedidos y los números de \n",
    "# pedidos correspondientes. Los usuarios sin pedidos tendrán un 0\n",
    "# Lo anterior es necesario para preparar las muestras para la prueba de Mann-Whitney\n",
    "\n",
    "sampleA = pd.concat([ordersByUsersA['orders'], \n",
    "                     pd.Series(0, index=np.arange(visits_us[visits_us['group']=='A']['visits'].sum() \n",
    "                     - len(ordersByUsersA['orders'])), name='orders')], axis=0\n",
    "                    )\n",
    "\n",
    "sampleB = pd.concat([ordersByUsersB['orders'],\n",
    "                     pd.Series(0, index=np.arange(visits_us[visits_us['group']=='B']['visits'].sum() \n",
    "                     - len(ordersByUsersB['orders'])), name='orders')],axis=0\n",
    "                   )"
   ]
  },
  {
   "cell_type": "code",
   "execution_count": 78,
   "metadata": {},
   "outputs": [
    {
     "name": "stdout",
     "output_type": "stream",
     "text": [
      "Valor p: 0.01102\n",
      "Diferencia relativa en la conversión para el grupo B: 0.15980\n"
     ]
    }
   ],
   "source": [
    "# Se calcula la significancia estadística de la diferencia en la conversión basada en los resultados después \n",
    "# Se aplica la prueba de Mann-Whitney\n",
    "# Se imprime el valor p para comparar la conversión de los grupos \n",
    "# se redondea a cinco decimales.\n",
    "print(f'Valor p: {stats.mannwhitneyu(sampleA, sampleB)[1] :.5f}')\n",
    "\n",
    "# se calcula e imprime la diferencia relativa en la conversión entre los grupos\n",
    "print(f'Diferencia relativa en la conversión para el grupo B: {sampleB.mean()/sampleA.mean()-1 :.5f}')"
   ]
  },
  {
   "cell_type": "markdown",
   "metadata": {},
   "source": [
    "<div style=\"background-color: lightyellow; padding: 10px;\">\n",
    "\n",
    "<span style=\"color: darkblue;\">  \n",
    "    \n",
    "**Conclusiones:**  \n",
    "El valor de p es de 0.01102 el cual es menor que 0.05, por lo tanto, se rechaza la hipótesis nula ya que hay una diferencia estadísticamente significativa en la conversión entre los grupos, asimismo, con el valor de p se puede decir que hay una probabilidad del 1.102 % de equivocación al rechazar la hipótesis nula. En cuanto a la diferencia relativa, hay un aumento del 15.9 % para el grupo B.\n",
    "    \n",
    "</span>\n",
    "    \n",
    "</div>"
   ]
  },
  {
   "cell_type": "markdown",
   "metadata": {},
   "source": [
    "### Significancia estadística de la diferencia en el tamaño promedio de pedido entre los grupos utilizando los datos en bruto <a id='sig_esta_pedidos'></a>"
   ]
  },
  {
   "cell_type": "code",
   "execution_count": 80,
   "metadata": {},
   "outputs": [
    {
     "name": "stdout",
     "output_type": "stream",
     "text": [
      "Valor p: 0.86223\n",
      "Diferencia relativa en el tamaño promedio para el grupo B: 0.278345\n"
     ]
    }
   ],
   "source": [
    "# ahora para calcular la importancia estadística de la diferencia en el tamaño medio de los pedidos de los grupos, \n",
    "# pasaremos los datos sobre los ingresos al criterio mannwhitneyu()\n",
    "p_value = stats.mannwhitneyu(orders_us[orders_us['group']=='A']['revenue'], orders_us[orders_us['group']=='B']['revenue']).pvalue\n",
    "\n",
    "print(f'Valor p: {round(p_value, 5)}')\n",
    "\n",
    "# se calcula e imprime la diferencia relativa en el tamaño de los pedidos entre los grupos\n",
    "print(f\"Diferencia relativa en el tamaño promedio para el grupo B: {orders_us[orders_us['group']=='B']['revenue'].mean()/orders_us[orders_us['group']=='A']['revenue'].mean()-1 :3f}\")"
   ]
  },
  {
   "cell_type": "markdown",
   "metadata": {},
   "source": [
    "<div style=\"background-color: lightyellow; padding: 10px;\">\n",
    "\n",
    "<span style=\"color: darkblue;\">  \n",
    "    \n",
    "**Conclusiones:**  \n",
    "EL valor de p es de 0.86223, el cual es mayor que 0.05, por tanto la hipótesis nula no se rechaza. No hay diferencia en el tamaño medio de los grupos. Sin embargo, el tamaño de pedido promedio para el grupo B es mucho más grande que para el grupo A, en un 27.83 %.\n",
    "    \n",
    "</span>\n",
    "    \n",
    "</div>"
   ]
  },
  {
   "cell_type": "markdown",
   "metadata": {},
   "source": [
    "### Significancia estadística de la diferencia en la conversión entre los grupos utilizando los datos filtrados. <a id='conversion_filtrado'></a>"
   ]
  },
  {
   "cell_type": "markdown",
   "metadata": {},
   "source": [
    "<div style=\"background-color: lightyellow; padding: 10px;\">\n",
    "\n",
    "<span style=\"color: darkblue;\">  \n",
    "\n",
    "****\n",
    "Ahora vamos a eliminar las anomalías de nuestros datos.  \n",
    "Recodando que los percentiles 95 y 99 para el tamaño promedio de pedido fueron 414 y 830.  \n",
    "Para el número de pedidos, los percentiles 95 y 99 fueron de 1 y 2 pedidos.  \n",
    "    \n",
    "Consideraremos usuarios anómalos a aquellos que realizaron más de 1 pedido o realizaron uno de más de 415. Así, se elimina el 5 % de los usuarios con más pedidos y entre el 1% y el 5% de los pedidos más caros.\n",
    "    \n",
    "</span>\n",
    "    \n",
    "</div>"
   ]
  },
  {
   "cell_type": "code",
   "execution_count": 81,
   "metadata": {},
   "outputs": [
    {
     "name": "stdout",
     "output_type": "stream",
     "text": [
      "568     113298937\n",
      "1099    148427295\n",
      "928     204675465\n",
      "33      249864742\n",
      "684     358944393\n",
      "dtype: int64\n",
      "\n",
      "Usuarios anómalos: 86\n"
     ]
    }
   ],
   "source": [
    "# se crean slices de datos con los usuarios que realizaron más de dos pedidos (usersWithManyOrders)\n",
    "usersWithManyOrders = pd.concat([ordersByUsersA[ordersByUsersA['orders'] > 1]['user_id'], ordersByUsersB[ordersByUsersB['orders'] > 1]['user_id']], axis = 0)\n",
    "\n",
    "# y se filtran los usuarios que realizaron pedidos por más de $500 (usersWithExpensiveOrders)\n",
    "usersWithExpensiveOrders = orders_us[orders_us['revenue'] > 415]['visitor_id']\n",
    "\n",
    "# se unen los 'usersWithManyOrders' y 'usersWithExpensiveOrders' en una tabla llamada abnormalUsers\n",
    "abnormalUsers = pd.concat([usersWithManyOrders, usersWithExpensiveOrders], axis= 0).drop_duplicates().sort_values()\n",
    "\n",
    "print(abnormalUsers.head())\n",
    "print()\n",
    "print(f'Usuarios anómalos: {abnormalUsers.shape[0]}')"
   ]
  },
  {
   "cell_type": "markdown",
   "metadata": {},
   "source": [
    "<div style=\"background-color: lightyellow; padding: 10px;\">\n",
    "\n",
    "<span style=\"color: darkblue;\">  \n",
    "\n",
    "****\n",
    "Ahora se calcula la significancia estadística de las diferencias en la conversión entre los grupos con datos filtrados.  \n",
    "Primero prepararemos muestras del número de pedidos por usuario para cada grupo de prueba.  \n",
    "\n",
    "    \n",
    "</span>\n",
    "    \n",
    "</div>"
   ]
  },
  {
   "cell_type": "code",
   "execution_count": 82,
   "metadata": {},
   "outputs": [
    {
     "name": "stdout",
     "output_type": "stream",
     "text": [
      "Valor p: 0.01593\n",
      "\n",
      "Diferencia relativa en la conversión para el grupo B: 0.17393\n"
     ]
    }
   ],
   "source": [
    "# se crean las variables sampleAFiltered y sampleBFiltered para almacenar los datos después de que se hayan eliminado las anomalías.\n",
    "sampleAFiltered = pd.concat([ordersByUsersA[np.logical_not(ordersByUsersA['user_id'].isin(abnormalUsers))]['orders'], pd.Series(0, index=np.arange(visits_us[visits_us['group']=='A']['visits'].sum() - len(ordersByUsersA['orders'])),name='orders')],axis=0)\n",
    "\n",
    "sampleBFiltered = pd.concat([ordersByUsersB[np.logical_not(ordersByUsersB['user_id'].isin(abnormalUsers))]['orders'], pd.Series(0, index=np.arange(visits_us[visits_us['group']=='B']['visits'].sum() - len(ordersByUsersB['orders'])),name='orders')],axis=0)\n",
    "\n",
    "# se aplica el criterio estadístico de Mann-Whitney a las muestras resultantes\n",
    "p_value_filtered = stats.mannwhitneyu(sampleAFiltered, sampleBFiltered).pvalue\n",
    "print(f'Valor p: {round(p_value_filtered, 5)}')\n",
    "print()\n",
    "print(f'Diferencia relativa en la conversión para el grupo B: {sampleBFiltered.mean()/sampleAFiltered.mean()-1 :.5f}')\n",
    "\n"
   ]
  },
  {
   "cell_type": "markdown",
   "metadata": {},
   "source": [
    "<div style=\"background-color: lightyellow; padding: 10px;\">\n",
    "\n",
    "<span style=\"color: darkblue;\">  \n",
    "    \n",
    "**Conclusiones:**  \n",
    "El valor de p de la conversión con los datos filtrados no cambiaron mucho, su valor es de 0.01593, por tanto se rechaza la hipótesis nula. La diferencia relativa es de 17.39 % para el grupo B.  \n",
    "    \n",
    "</span>\n",
    "    \n",
    "</div>"
   ]
  },
  {
   "cell_type": "markdown",
   "metadata": {},
   "source": [
    "### Significancia estadística de la diferencia en el tamaño promedio de pedido entre los grupos utilizando los datos filtrados. <a id='pedidos_filtrado'></a>\n"
   ]
  },
  {
   "cell_type": "code",
   "execution_count": 83,
   "metadata": {},
   "outputs": [
    {
     "name": "stdout",
     "output_type": "stream",
     "text": [
      "Valor p: 0.77119\n",
      "\n",
      "Diferencia relativa en el tamaño promedio para el grupo B: -0.03330\n"
     ]
    }
   ],
   "source": [
    "# # se aplica el criterio estadístico de Mann-Whitney \n",
    "p_value_filtered_orders = stats.mannwhitneyu(orders_us[np.logical_and(orders_us['group']=='A',\n",
    "                                    np.logical_not(orders_us['visitor_id'].isin(abnormalUsers)))]['revenue'],\n",
    "                                    orders_us[np.logical_and(orders_us['group']=='B',\n",
    "                                    np.logical_not(orders_us['visitor_id'].isin(abnormalUsers)))]['revenue']).pvalue\n",
    "\n",
    "# Diferencia relativa del tamaño de los pedidos\n",
    "groupA = orders_us[np.logical_and(orders_us['group']=='A', np.logical_not(orders_us['visitor_id'].isin(abnormalUsers)))]['revenue'].mean()\n",
    "groupB = orders_us[np.logical_and(orders_us['group']=='B',np.logical_not(orders_us['visitor_id'].isin(abnormalUsers)))]['revenue'].mean()\n",
    "\n",
    "dif_orders_filt = groupB / groupA - 1\n",
    "\n",
    "print(f'Valor p: {round(p_value_filtered_orders, 5)}')\n",
    "print()\n",
    "print(f'Diferencia relativa en el tamaño promedio para el grupo B: {dif_orders_filt :.5f}')"
   ]
  },
  {
   "cell_type": "markdown",
   "metadata": {},
   "source": [
    "<div style=\"background-color: lightyellow; padding: 10px;\">\n",
    "\n",
    "<span style=\"color: darkblue;\">  \n",
    "    \n",
    "**Conclusiones:**  \n",
    "El valor de p disminuyó a 0.77119, el cual contnua siendo menor a 0.05, la diferencia entre los grupos disminuyó a -3.33 %. Por lo tanto, No hay diferencia en el tamaño medio del pedido entre los grupos.\n",
    "    \n",
    "</span>\n",
    "    \n",
    "</div>"
   ]
  },
  {
   "cell_type": "markdown",
   "metadata": {},
   "source": [
    "## Resumen y Conclusión General <a id='end'></a>"
   ]
  },
  {
   "cell_type": "markdown",
   "metadata": {},
   "source": [
    "<div style=\"background-color: lightyellow; padding: 10px;\">\n",
    "\n",
    "<span style=\"color: darkblue;\">  \n",
    "    \n",
    "**Resumen General de los pasos seguidos:**  \n",
    "1. Se descargaron y se lamacenaron los datos y se prepararon para el análisis.\n",
    "2. Se realizó la priorización de hipótesis con el Framework ICE y RICE.  \n",
    "3. Se hizo un análisis de Test A/B.  \n",
    "4. Se representó gráficamente el ingreso acumulado por grupo.  \n",
    "5. Se representó gráficamente el tamaño de pedido promedio acumulado por grupo.  \n",
    "6. Se representó gráficamente la diferencia relativa en el tamaño de pedido promedio acumulado para el grupo B en comparación con el grupo A.  \n",
    "7. Se calculó la tasa de conversión diaria para cada grupo y se representó gráficamente las tasas de conversión diarias.  \n",
    "8. Se hizo un gráfico de dispersión del número de pedidos por usuario.  \n",
    "9. Se calcularon los percentiles 95 y 99 para el número de pedidos por usuario.  \n",
    "10. En un gráfico se representó la dispersión de los precios de los pedidos.  \n",
    "11. Se calcularon los percentiles 95 y 99 de los precios de los pedidos.  \n",
    "12. Se calculó la significancia estadística de la diferencia en la conversión entre los grupos utilizando los datos en bruto.  \n",
    "13. Se encontró la significancia estadística de la diferencia en el tamaño promedio de pedido entre los grupos utilizando los datos en bruto.  \n",
    "14. Cálculo de la significancia estadística de la diferencia en la conversión entre los grupos utilizando datos filtrados.  \n",
    "15. Cálculo de la significancia estadística de la diferencia en el tamaño promedio de pedido entre los grupos utilizando datos filtrados.  \n",
    "\n",
    "**Conclusión General:**  \n",
    "• Hay una diferencia estadísticamente significativa de acuerdo a los datos sin filtrar y los datos filtrados en la conversión de los usuarios/as. El grupo B tiene una conversión más alta, en los datos sin filtrar la diferencia relativa es de 15.9 % y en los datos filtrados de 17.39 %.  \n",
    "\n",
    "• Ni los datos sin filtrar ni los datos filtrados mostraron diferencias estadísticamente significativas en el tamaño promedio de los pedidos entre los grupos.  \n",
    "\n",
    "• En el gráfico que muestra la diferencia de conversión entre los grupos se observa que los resultados del grupo B son mejores, en un 20 % más respecto al grupo A en periodo determinado, actualmente es mejor en un 15 % aproximadamente.  \n",
    "\n",
    "• El gráfico que muestra la diferencia en el tamaño medio de los pedidos entre los grupos nos dice que los resultados del grupo B están fluctuando constantemente, en algunos días tiene picos muy alto y en otros son muy bajos, en los últimos días disminuye. Por lo tanto, de este gráfico no se pueden sacar conclusiones definitivas.  \n",
    "\n",
    "• Con base en los resultados se recomienda parar la prueba y considerar al grupo B como líder respecto al grupo A, al menos en la conversión de usuarios/as.  \n",
    "    \n",
    "</span>\n",
    "    \n",
    "</div>"
   ]
  },
  {
   "cell_type": "code",
   "execution_count": null,
   "metadata": {},
   "outputs": [],
   "source": []
  }
 ],
 "metadata": {
  "kernelspec": {
   "display_name": "Python 3 (ipykernel)",
   "language": "python",
   "name": "python3"
  },
  "language_info": {
   "codemirror_mode": {
    "name": "ipython",
    "version": 3
   },
   "file_extension": ".py",
   "mimetype": "text/x-python",
   "name": "python",
   "nbconvert_exporter": "python",
   "pygments_lexer": "ipython3",
   "version": "3.9.5"
  },
  "toc": {
   "base_numbering": 1,
   "nav_menu": {},
   "number_sections": true,
   "sideBar": true,
   "skip_h1_title": true,
   "title_cell": "Table of Contents",
   "title_sidebar": "Contents",
   "toc_cell": false,
   "toc_position": {},
   "toc_section_display": true,
   "toc_window_display": false
  }
 },
 "nbformat": 4,
 "nbformat_minor": 2
}
